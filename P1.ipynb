{
  "nbformat": 4,
  "nbformat_minor": 0,
  "metadata": {
    "colab": {
      "provenance": []
    },
    "kernelspec": {
      "name": "python3",
      "display_name": "Python 3"
    },
    "language_info": {
      "name": "python"
    }
  },
  "cells": [
    {
      "cell_type": "code",
      "execution_count": 2,
      "metadata": {
        "id": "WvBVVwGNk8gh"
      },
      "outputs": [],
      "source": [
        "import pandas as pd\n",
        "import requests\n",
        "import time"
      ]
    },
    {
      "cell_type": "code",
      "source": [
        "GITHUB_TOKEN = 'token'\n",
        "HEADERS = {\n",
        "    'Authorization': f'token {GITHUB_TOKEN}',\n",
        "    'Accept': 'application/vnd.github.v3+json'\n",
        "}"
      ],
      "metadata": {
        "id": "h281lCtEskWR"
      },
      "execution_count": 56,
      "outputs": []
    },
    {
      "cell_type": "code",
      "source": [
        "def fetch_users():\n",
        "    users = []\n",
        "    page = 1\n",
        "\n",
        "    while True:\n",
        "        response = requests.get(\n",
        "            f'https://api.github.com/search/users?q=location:Toronto+followers:>100&per_page=100&page={page}',\n",
        "            headers=HEADERS\n",
        "        )\n",
        "\n",
        "        if response.status_code == 403:  # Rate limit exceeded\n",
        "            print(\"Rate limit exceeded. Waiting for reset...\")\n",
        "            reset_time = int(response.headers.get('X-RateLimit-Reset'))\n",
        "            wait_time = max(reset_time - int(time.time()), 0) + 5  # Add buffer\n",
        "            time.sleep(wait_time)\n",
        "            continue\n",
        "\n",
        "        if response.status_code != 200:\n",
        "            print(f\"Error fetching users: {response.json()}\")\n",
        "            break\n",
        "\n",
        "        data = response.json()\n",
        "        if not data['items']:\n",
        "            break  # No more users found\n",
        "\n",
        "        users.extend(data['items'])\n",
        "        page += 1\n",
        "\n",
        "    return users"
      ],
      "metadata": {
        "id": "0eTPsowwaPP1"
      },
      "execution_count": 57,
      "outputs": []
    },
    {
      "cell_type": "code",
      "source": [
        "def fetch_user_details(user_url):\n",
        "    response = requests.get(user_url, headers=HEADERS)\n",
        "\n",
        "    if response.status_code == 403:  # Rate limit exceeded\n",
        "        print(\"Rate limit exceeded. Waiting for reset...\")\n",
        "        reset_time = int(response.headers.get('X-RateLimit-Reset'))\n",
        "        wait_time = max(reset_time - int(time.time()), 0) + 5  # Add buffer\n",
        "        time.sleep(wait_time)\n",
        "        return fetch_user_details(user_url)  # Retry after waiting\n",
        "\n",
        "    if response.status_code != 200:\n",
        "        print(f\"Error fetching user details: {response.json()}\")\n",
        "        return None\n",
        "\n",
        "    return response.json()"
      ],
      "metadata": {
        "id": "X82Wjf2Ue5nb"
      },
      "execution_count": 60,
      "outputs": []
    },
    {
      "cell_type": "code",
      "source": [
        "def fetch_user_repositories(username):\n",
        "    repos = []\n",
        "    page = 1\n",
        "\n",
        "    while True:\n",
        "        response = requests.get(\n",
        "            f'https://api.github.com/users/{username}/repos?per_page=100&page={page}',\n",
        "            headers=HEADERS\n",
        "        )\n",
        "\n",
        "        if response.status_code == 403:  # Rate limit exceeded\n",
        "            print(\"Rate limit exceeded. Waiting for reset...\")\n",
        "            reset_time = int(response.headers.get('X-RateLimit-Reset'))\n",
        "            wait_time = max(reset_time - int(time.time()), 0) + 5  # Add buffer\n",
        "            time.sleep(wait_time)\n",
        "            continue\n",
        "\n",
        "        if response.status_code != 200:\n",
        "            print(f\"Error fetching repositories for {username}: {response.json()}\")\n",
        "            break\n",
        "\n",
        "        data = response.json()\n",
        "        if not data:\n",
        "            break  # No more repositories found\n",
        "\n",
        "        repos.extend(data)\n",
        "        page += 1\n",
        "\n",
        "    return repos"
      ],
      "metadata": {
        "id": "pKI7vj80vS22"
      },
      "execution_count": 7,
      "outputs": []
    },
    {
      "cell_type": "code",
      "source": [
        "users = fetch_users()"
      ],
      "metadata": {
        "id": "dF2H90DzaWig"
      },
      "execution_count": 58,
      "outputs": []
    },
    {
      "cell_type": "code",
      "source": [
        "users_data = []\n",
        "repositories_data = []\n",
        "\n",
        "for u in users:\n",
        "    user = fetch_user_details(u['url'])\n",
        "    if user:\n",
        "      username = user['login']\n",
        "      company = user['company']\n",
        "      if company:\n",
        "        company_str_cleaned = ' '.join(part.strip().lstrip('@').upper() for part in company.split())\n",
        "      else:\n",
        "        company_str_cleaned = ''\n",
        "      hireable = user['hireable']\n",
        "      if hireable is True:\n",
        "        hireable = 'true'\n",
        "      elif hireable is False:\n",
        "        hireable = 'false'\n",
        "      else:\n",
        "        hireable = ''\n",
        "      user_info = {\n",
        "          'login': username,\n",
        "          'name': user['name'] or '',\n",
        "          'company':  company_str_cleaned,\n",
        "          'location': user['location'] or '',\n",
        "          'email': user['email'] or '',\n",
        "          'hireable': hireable,\n",
        "          'bio': user['bio'] or '',\n",
        "          'public_repos': user['public_repos'],\n",
        "          'followers': user['followers'],\n",
        "          'following': user['following'],\n",
        "          'created_at': user['created_at']\n",
        "      }\n",
        "      users_data.append(user_info)\n",
        "\n",
        "      repos = fetch_user_repositories(username)\n",
        "      for repo in repos:\n",
        "        has_projects = repo['has_projects']\n",
        "        if has_projects is True:\n",
        "          has_projects = 'true'\n",
        "        elif has_projects is False:\n",
        "          has_projects = 'false'\n",
        "        else:\n",
        "          has_projects = ''\n",
        "        has_wiki = repo['has_wiki']\n",
        "        if has_wiki is True:\n",
        "          has_wiki = 'true'\n",
        "        elif has_wiki is False:\n",
        "          has_wiki = 'false'\n",
        "        else:\n",
        "          has_wiki = ''\n",
        "        repo_info = {\n",
        "            'login': username,\n",
        "            'full_name': repo['full_name'],\n",
        "            'created_at': repo['created_at'],\n",
        "            'stargazers_count': repo['stargazers_count'],\n",
        "            'watchers_count': repo['watchers_count'],\n",
        "            'language': repo['language'] or '',\n",
        "            'has_projects': has_projects,\n",
        "            'has_wiki': has_wiki,\n",
        "            'license_name': repo['license']['name'] if repo['license'] else ''\n",
        "        }\n",
        "        repositories_data.append(repo_info)"
      ],
      "metadata": {
        "colab": {
          "base_uri": "https://localhost:8080/"
        },
        "id": "NZwJkbNUtOjr",
        "outputId": "b4e2efaf-1851-460b-b615-d9c18467daf7"
      },
      "execution_count": 17,
      "outputs": [
        {
          "output_type": "stream",
          "name": "stdout",
          "text": [
            "\u001b[1;30;43mStreaming output truncated to the last 5000 lines.\u001b[0m\n",
            "Rep data appended...\n",
          ]
        }
      ]
    },
    {
      "cell_type": "code",
      "source": [
        "# Save to CSV\n",
        "pd.DataFrame(users_data).to_csv('users.csv', index=False)\n",
        "pd.DataFrame(repositories_data).to_csv('repositories.csv', index=False)\n",
        "\n",
        "print(\"Data fetched and saved to users.csv and repositories.csv\")"
      ],
      "metadata": {
        "colab": {
          "base_uri": "https://localhost:8080/"
        },
        "id": "6170E_rQvY1l",
        "outputId": "9aada046-6cb2-45f4-abb4-158b4b0754c0"
      },
      "execution_count": 19,
      "outputs": [
        {
          "output_type": "stream",
          "name": "stdout",
          "text": [
            "Data fetched and saved to users.csv and repositories.csv\n"
          ]
        }
      ]
    },
    {
      "cell_type": "code",
      "source": [
        "uzr = pd.DataFrame(users_data)"
      ],
      "metadata": {
        "id": "5aFDXaMC4QV4"
      },
      "execution_count": 3,
      "outputs": []
    },
    {
      "cell_type": "code",
      "source": [
        "rep = pd.DataFrame(repositories_data)"
      ],
      "metadata": {
        "id": "W8WG6WiT8HQc"
      },
      "execution_count": 120,
      "outputs": []
    },
    {
      "cell_type": "code",
      "source": [
        "#Q1\n",
        "uzr.loc[uzr.followers.sort_values(ascending=False).head(5).index].login.values"
      ],
      "metadata": {
        "colab": {
          "base_uri": "https://localhost:8080/"
        },
        "id": "5bm8qXv26q4V",
        "outputId": "8900e7bf-1725-4e2c-c49d-14db7afcf63d"
      },
      "execution_count": 22,
      "outputs": [
        {
          "output_type": "execute_result",
          "data": {
            "text/plain": [
              "array(['aneagoie', 'ZhangMYihua', 'susanli2016', 'thedaviddias',\n",
              "       'ange-yaghi'], dtype=object)"
            ]
          },
          "metadata": {},
          "execution_count": 22
        }
      ]
    },
    {
      "cell_type": "code",
      "source": [
        "#Q2\n",
        "uzr.loc[uzr.created_at.sort_values().head(5).index].login.values"
      ],
      "metadata": {
        "colab": {
          "base_uri": "https://localhost:8080/"
        },
        "id": "puUhv2M37D2K",
        "outputId": "0500c276-3aad-49fb-aa96-037129ad1347"
      },
      "execution_count": 23,
      "outputs": [
        {
          "output_type": "execute_result",
          "data": {
            "text/plain": [
              "array(['jamesmacaulay', 'michaelklishin', 'myles', 'nwjsmith', 'vito'],\n",
              "      dtype=object)"
            ]
          },
          "metadata": {},
          "execution_count": 23
        }
      ]
    },
    {
      "cell_type": "code",
      "source": [
        "#Q3\n",
        "rep.license_name.value_counts().head(3).keys()"
      ],
      "metadata": {
        "colab": {
          "base_uri": "https://localhost:8080/"
        },
        "id": "LGsJtLz8751C",
        "outputId": "c3623140-f7b3-4252-9f45-415570c5d57e"
      },
      "execution_count": 24,
      "outputs": [
        {
          "output_type": "execute_result",
          "data": {
            "text/plain": [
              "Index(['MIT License', 'Other', 'Apache License 2.0'], dtype='object', name='license_name')"
            ]
          },
          "metadata": {},
          "execution_count": 24
        }
      ]
    },
    {
      "cell_type": "code",
      "source": [
        "#Q4\n",
        "uzr.company.value_counts().head(1).keys()"
      ],
      "metadata": {
        "colab": {
          "base_uri": "https://localhost:8080/"
        },
        "id": "LIJgW-KV83gp",
        "outputId": "aaf26a33-1e2e-4c91-f2f8-c79198e8e051"
      },
      "execution_count": 5,
      "outputs": [
        {
          "output_type": "execute_result",
          "data": {
            "text/plain": [
              "Index(['UNIVERSITY OF TORONTO', 'SHOPIFY', 'NVIDIA', 'GOOGLE',\n",
              "       'YORK UNIVERSITY', 'MOZILLA', 'GETSENTRY', 'WEALTHSIMPLE', 'MICROSOFT',\n",
              "       'GITHUB',\n",
              "       ...\n",
              "       'BINAXITY', 'LOUIS LAZARIS', 'MAPLE', 'KAGGLE', 'G2I', 'THEFRONTSIDE',\n",
              "       'GITLABHQ', 'NURENYX', 'DATADOG', 'COUNTLY'],\n",
              "      dtype='object', name='company', length=308)"
            ]
          },
          "metadata": {},
          "execution_count": 5
        }
      ]
    },
    {
      "cell_type": "code",
      "source": [
        "#Q5\n",
        "rep.language.value_counts().head(1).keys()"
      ],
      "metadata": {
        "colab": {
          "base_uri": "https://localhost:8080/"
        },
        "id": "-971cEAB9Xu1",
        "outputId": "eaab6646-5ca1-4b7b-e407-b871070031a7"
      },
      "execution_count": 26,
      "outputs": [
        {
          "output_type": "execute_result",
          "data": {
            "text/plain": [
              "Index(['JavaScript'], dtype='object', name='language')"
            ]
          },
          "metadata": {},
          "execution_count": 26
        }
      ]
    },
    {
      "cell_type": "code",
      "source": [
        "#Q6\n",
        "datethr = '31-12-2020'\n",
        "created_at_dt = pd.to_datetime(uzr.created_at)\n",
        "uzrs_after_2020 = uzr.loc[created_at_dt > datethr]\n",
        "rep[rep.login.isin(uzrs_after_2020.login.values)].language.value_counts()[1:2].keys()"
      ],
      "metadata": {
        "colab": {
          "base_uri": "https://localhost:8080/"
        },
        "id": "EE4ADNw19hKT",
        "outputId": "dcad05d8-72e0-42e9-8191-d8c9fa1328be"
      },
      "execution_count": 38,
      "outputs": [
        {
          "output_type": "execute_result",
          "data": {
            "text/plain": [
              "Index(['TypeScript'], dtype='object', name='language')"
            ]
          },
          "metadata": {},
          "execution_count": 38
        }
      ]
    },
    {
      "cell_type": "code",
      "source": [
        "#Q7\n",
        "rep.groupby('language').stargazers_count.mean().sort_values(ascending=False).head(1).keys()"
      ],
      "metadata": {
        "colab": {
          "base_uri": "https://localhost:8080/"
        },
        "id": "8IXmLRfY_ksx",
        "outputId": "8482c68f-ca3f-4a25-f507-7024e36fbc34"
      },
      "execution_count": 39,
      "outputs": [
        {
          "output_type": "execute_result",
          "data": {
            "text/plain": [
              "Index(['Cython'], dtype='object', name='language')"
            ]
          },
          "metadata": {},
          "execution_count": 39
        }
      ]
    },
    {
      "cell_type": "code",
      "source": [
        "#Q8\n",
        "uzr['leader_strength'] = uzr.followers /  (1 + uzr.following)\n",
        "uzr.loc[uzr.leader_strength.sort_values(ascending=False).head(5).index].login.values"
      ],
      "metadata": {
        "colab": {
          "base_uri": "https://localhost:8080/"
        },
        "id": "hkkzh9cd_w6G",
        "outputId": "2dd7019d-8ba0-4d2e-9ec6-f32258a16109"
      },
      "execution_count": 40,
      "outputs": [
        {
          "output_type": "execute_result",
          "data": {
            "text/plain": [
              "array(['aneagoie', 'nayuki', 'GrapheneOS', 'hlissner', 'rspivak'],\n",
              "      dtype=object)"
            ]
          },
          "metadata": {},
          "execution_count": 40
        }
      ]
    },
    {
      "cell_type": "code",
      "source": [
        "#Q9\n",
        "uzr['followers'].corr(uzr['public_repos'])"
      ],
      "metadata": {
        "colab": {
          "base_uri": "https://localhost:8080/"
        },
        "id": "Vik3Q0suEyWz",
        "outputId": "8d83ad3b-76d5-462a-dee4-3dfdd255becf"
      },
      "execution_count": 41,
      "outputs": [
        {
          "output_type": "execute_result",
          "data": {
            "text/plain": [
              "0.05503721505396733"
            ]
          },
          "metadata": {},
          "execution_count": 41
        }
      ]
    },
    {
      "cell_type": "code",
      "source": [
        "#Q10\n",
        "from sklearn.linear_model import LinearRegression\n",
        "\n",
        "X = uzr[['public_repos']]\n",
        "y = uzr['followers']\n",
        "\n",
        "model = LinearRegression()\n",
        "model.fit(X, y)\n",
        "\n",
        "print(\"Slope: \", model.coef_[0])"
      ],
      "metadata": {
        "colab": {
          "base_uri": "https://localhost:8080/"
        },
        "id": "-F1zmrvPGBV6",
        "outputId": "14975402-02d8-46ff-ef4c-92ac2db1ddc6"
      },
      "execution_count": 42,
      "outputs": [
        {
          "output_type": "stream",
          "name": "stdout",
          "text": [
            "Slope:  0.25084946597223734\n"
          ]
        }
      ]
    },
    {
      "cell_type": "code",
      "source": [
        "#Q11\n",
        "rep['has_projects'].astype(int).corr(rep['has_wiki'].astype(int))"
      ],
      "metadata": {
        "colab": {
          "base_uri": "https://localhost:8080/"
        },
        "id": "vTjk6ds6HWOm",
        "outputId": "984744c4-48c2-4060-e3cd-f2677f989940"
      },
      "execution_count": 43,
      "outputs": [
        {
          "output_type": "execute_result",
          "data": {
            "text/plain": [
              "0.3532076787341683"
            ]
          },
          "metadata": {},
          "execution_count": 43
        }
      ]
    },
    {
      "cell_type": "code",
      "source": [
        "#Q12\n",
        "uzr[uzr.hireable == True].following.mean() - uzr[uzr.hireable != True].following.mean()"
      ],
      "metadata": {
        "colab": {
          "base_uri": "https://localhost:8080/"
        },
        "id": "S8dpm1ldNv9D",
        "outputId": "8123b947-aebd-4745-d32e-1f2d012ba9e4"
      },
      "execution_count": 167,
      "outputs": [
        {
          "output_type": "execute_result",
          "data": {
            "text/plain": [
              "-12.608149030947175"
            ]
          },
          "metadata": {},
          "execution_count": 167
        }
      ]
    },
    {
      "cell_type": "code",
      "source": [
        "#Q13\n",
        "from sklearn.linear_model import LinearRegression\n",
        "#import re\n",
        "#print(uzr.shape)\n",
        "new_uzr =uzr.copy()"
      ],
      "metadata": {
        "id": "jG3mvZPO42QY"
      },
      "execution_count": 6,
      "outputs": []
    },
    {
      "cell_type": "code",
      "source": [
        "new_uzr['bio_wc'] = new_uzr['bio'].apply(lambda x: len(str(x).split()) if pd.notna(x) else 0)"
      ],
      "metadata": {
        "id": "KVC7zskhh5tA"
      },
      "execution_count": 7,
      "outputs": []
    },
    {
      "cell_type": "code",
      "source": [
        "df_filtered = new_uzr[new_uzr['bio_wc'] > 0]"
      ],
      "metadata": {
        "id": "XdCSGWrmmMkn"
      },
      "execution_count": 11,
      "outputs": []
    },
    {
      "cell_type": "code",
      "source": [
        "X = df_filtered[['bio_wc']]\n",
        "y = df_filtered['followers']\n",
        "model = LinearRegression()\n",
        "model.fit(X, y)\n",
        "print(\"Slope: \", model.coef_[0])"
      ],
      "metadata": {
        "colab": {
          "base_uri": "https://localhost:8080/"
        },
        "id": "nN1CA05qhqmN",
        "outputId": "9a8adfeb-a4c5-4f2e-d10f-ccf2d91623ce"
      },
      "execution_count": 12,
      "outputs": [
        {
          "output_type": "stream",
          "name": "stdout",
          "text": [
            "Slope:  8.532693974150503\n"
          ]
        }
      ]
    },
    {
      "cell_type": "code",
      "source": [
        "#new_uzr[new_uzr['bio_wc'] != new_uzr['bio_word_count']].shape"
      ],
      "metadata": {
        "id": "s-DzLCWsn4nw"
      },
      "execution_count": 9,
      "outputs": []
    },
    {
      "cell_type": "code",
      "source": [
        "#def count_words(bio):\n",
        "#    if pd.isna(bio):\n",
        "#        return 0\n",
        "    # Split the bio into words using regex to avoid counting special characters as words\n",
        "#    words = re.findall(r'\\b\\w+\\b', bio)  # This finds words that consist of letters, digits, and underscores\n",
        "#    return len(words)\n",
        "#new_uzr['bio_word_count'] = new_uzr['bio'].apply(count_words)"
      ],
      "metadata": {
        "id": "jw_4d7sLlcQP"
      },
      "execution_count": 16,
      "outputs": []
    },
    {
      "cell_type": "code",
      "source": [
        "#Q14\n",
        "rep_created_dt = pd.to_datetime(rep.created_at)\n",
        "weekend_created = rep.loc[(rep_created_dt.dt.day_name() == 'Saturday') | (rep_created_dt.dt.day_name() == 'Sunday')]\n",
        "weekend_created.login.value_counts().head(5).keys()"
      ],
      "metadata": {
        "colab": {
          "base_uri": "https://localhost:8080/"
        },
        "id": "HOHpelLA5ALP",
        "outputId": "cf6cd391-c309-4c3e-e5b3-d0af24ed72c0"
      },
      "execution_count": 121,
      "outputs": [
        {
          "output_type": "execute_result",
          "data": {
            "text/plain": [
              "Index(['n1ckfg', 'jsoref', 'QuinntyneBrown', 'invokethreatguy', 'andyw8'], dtype='object', name='login')"
            ]
          },
          "metadata": {},
          "execution_count": 121
        }
      ]
    },
    {
      "cell_type": "code",
      "source": [
        "#Q15\n",
        "fraction_hireable = uzr[uzr['hireable'] == True]['email'].notna().mean()\n",
        "fraction_non_hireable = uzr[uzr['hireable'] != True]['email'].notna().mean()\n",
        "fraction = fraction_hireable - fraction_non_hireable\n",
        "print(fraction)"
      ],
      "metadata": {
        "colab": {
          "base_uri": "https://localhost:8080/"
        },
        "id": "xqKk7Ej0iJZT",
        "outputId": "4adb0813-2d63-4bb7-83dd-e35b4ccd7bba"
      },
      "execution_count": 190,
      "outputs": [
        {
          "output_type": "stream",
          "name": "stdout",
          "text": [
            "0.13038254141919353\n"
          ]
        }
      ]
    },
    {
      "cell_type": "code",
      "source": [
        "#Q16\n",
        "df = uzr.copy()\n",
        "name = df['name'].dropna().str.strip()\n",
        "surname = name.str.split().str[-1]\n",
        "surname.value_counts()"
      ],
      "metadata": {
        "colab": {
          "base_uri": "https://localhost:8080/",
          "height": 489
        },
        "id": "ab5wIn-MCl7p",
        "outputId": "42058513-0fe6-48d5-a252-5abb626ba250"
      },
      "execution_count": 3,
      "outputs": [
        {
          "output_type": "execute_result",
          "data": {
            "text/plain": [
              "name\n",
              "Ahmed        4\n",
              "Kumar        3\n",
              "Li           3\n",
              "Wu           3\n",
              "Brown        3\n",
              "            ..\n",
              "Santos       1\n",
              "Teneycke     1\n",
              "Mankovski    1\n",
              "Peiris       1\n",
              "D'Amelio     1\n",
              "Name: count, Length: 626, dtype: int64"
            ],
            "text/html": [
              "<div>\n",
              "<style scoped>\n",
              "    .dataframe tbody tr th:only-of-type {\n",
              "        vertical-align: middle;\n",
              "    }\n",
              "\n",
              "    .dataframe tbody tr th {\n",
              "        vertical-align: top;\n",
              "    }\n",
              "\n",
              "    .dataframe thead th {\n",
              "        text-align: right;\n",
              "    }\n",
              "</style>\n",
              "<table border=\"1\" class=\"dataframe\">\n",
              "  <thead>\n",
              "    <tr style=\"text-align: right;\">\n",
              "      <th></th>\n",
              "      <th>count</th>\n",
              "    </tr>\n",
              "    <tr>\n",
              "      <th>name</th>\n",
              "      <th></th>\n",
              "    </tr>\n",
              "  </thead>\n",
              "  <tbody>\n",
              "    <tr>\n",
              "      <th>Ahmed</th>\n",
              "      <td>4</td>\n",
              "    </tr>\n",
              "    <tr>\n",
              "      <th>Kumar</th>\n",
              "      <td>3</td>\n",
              "    </tr>\n",
              "    <tr>\n",
              "      <th>Li</th>\n",
              "      <td>3</td>\n",
              "    </tr>\n",
              "    <tr>\n",
              "      <th>Wu</th>\n",
              "      <td>3</td>\n",
              "    </tr>\n",
              "    <tr>\n",
              "      <th>Brown</th>\n",
              "      <td>3</td>\n",
              "    </tr>\n",
              "    <tr>\n",
              "      <th>...</th>\n",
              "      <td>...</td>\n",
              "    </tr>\n",
              "    <tr>\n",
              "      <th>Santos</th>\n",
              "      <td>1</td>\n",
              "    </tr>\n",
              "    <tr>\n",
              "      <th>Teneycke</th>\n",
              "      <td>1</td>\n",
              "    </tr>\n",
              "    <tr>\n",
              "      <th>Mankovski</th>\n",
              "      <td>1</td>\n",
              "    </tr>\n",
              "    <tr>\n",
              "      <th>Peiris</th>\n",
              "      <td>1</td>\n",
              "    </tr>\n",
              "    <tr>\n",
              "      <th>D'Amelio</th>\n",
              "      <td>1</td>\n",
              "    </tr>\n",
              "  </tbody>\n",
              "</table>\n",
              "<p>626 rows × 1 columns</p>\n",
              "</div><br><label><b>dtype:</b> int64</label>"
            ]
          },
          "metadata": {},
          "execution_count": 3
        }
      ]
    }
  ]
}
